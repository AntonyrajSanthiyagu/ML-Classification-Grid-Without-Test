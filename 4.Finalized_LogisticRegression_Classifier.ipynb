{
 "cells": [
  {
   "cell_type": "code",
   "execution_count": 1,
   "id": "498c995d-c5ae-4aab-8488-fcf46ce8cd66",
   "metadata": {},
   "outputs": [],
   "source": [
    "import pickle"
   ]
  },
  {
   "cell_type": "code",
   "execution_count": 3,
   "id": "8c7f7cda-7e5e-42c1-ba2f-ba380ec069c9",
   "metadata": {},
   "outputs": [],
   "source": [
    "loaded_module=pickle.load(open(\"4.Finalized_LogisticRegression_Classifier.sav\",'rb'))"
   ]
  },
  {
   "cell_type": "code",
   "execution_count": 5,
   "id": "8b7b516d-9bcf-40bc-b169-ae9576decafe",
   "metadata": {},
   "outputs": [
    {
     "name": "stdin",
     "output_type": "stream",
     "text": [
      "age: 75\n",
      "bp: 96\n",
      "al: 56\n",
      "su: 423\n",
      "bgr: 126\n",
      "bu: 23\n",
      "sc: 42\n",
      "sod: 58\n",
      "pot: 62\n",
      "hrmo: 423\n",
      "pcv: 210\n",
      "wc: 423\n",
      "rc: 124\n",
      "sg_b: 20\n",
      "sg_c: 63\n",
      "sg_d: 12\n",
      "sg_e: 45\n",
      "rbc_normal: 269\n",
      "pc_normal: 423\n",
      "pcc_present: 125\n",
      "ba_present: 258\n",
      "htn_yes: 432\n",
      "dm_yes: 241\n",
      "cad_yes: 125\n",
      "appet_yes: 210\n",
      "pe_yes: 142\n",
      "ane_yes: 136\n"
     ]
    }
   ],
   "source": [
    "age=float(input(\"age:\"))\n",
    "bp=float(input(\"bp:\"))\n",
    "al=float(input(\"al:\"))\n",
    "su=float(input(\"su:\"))\n",
    "bgr=float(input(\"bgr:\"))\n",
    "bu=float(input(\"bu:\"))\n",
    "sc=float(input(\"sc:\"))\n",
    "sod=float(input(\"sod:\"))\n",
    "pot=float(input(\"pot:\"))\n",
    "hrmo=float(input(\"hrmo:\"))\n",
    "pcv=float(input(\"pcv:\"))\n",
    "wc=float(input(\"wc:\"))\n",
    "rc=float(input(\"rc:\"))\n",
    "sg_b=float(input(\"sg_b:\"))\n",
    "sg_c=float(input(\"sg_c:\"))\n",
    "sg_d=float(input(\"sg_d:\"))\n",
    "sg_e=float(input(\"sg_e:\"))\n",
    "rbc_normal=float(input(\"rbc_normal:\"))\n",
    "pc_normal=float(input(\"pc_normal:\"))\n",
    "pcc_present=float(input(\"pcc_present:\"))\n",
    "ba_present=float(input(\"ba_present:\"))\n",
    "htn_yes=float(input(\"htn_yes:\"))\n",
    "dm_yes=float(input(\"dm_yes:\"))\n",
    "cad_yes=float(input(\"cad_yes:\"))\n",
    "appet_yes=float(input(\"appet_yes:\"))\n",
    "pe_yes=float(input(\"pe_yes:\"))\n",
    "ane_yes=float(input(\"ane_yes:\"))"
   ]
  },
  {
   "cell_type": "code",
   "execution_count": 7,
   "id": "eb3c993d-0bd0-4b04-b2a5-a8407737170e",
   "metadata": {},
   "outputs": [
    {
     "name": "stdout",
     "output_type": "stream",
     "text": [
      "Future_Predict=[False]\n"
     ]
    }
   ],
   "source": [
    "Future_Predict=loaded_module.predict([[age, bp, al, su, bgr, bu, sc, sod, pot, hrmo, pcv, wc, rc, sg_b, sg_c, sg_d, sg_e, rbc_normal, pc_normal, pcc_present, ba_present, htn_yes, dm_yes, cad_yes, appet_yes, pe_yes, ane_yes]])\n",
    "print(\"Future_Predict={}\".format(Future_Predict))"
   ]
  },
  {
   "cell_type": "code",
   "execution_count": null,
   "id": "8377c8a8-1d2d-4806-96c6-dbe7e27cd43d",
   "metadata": {},
   "outputs": [],
   "source": []
  }
 ],
 "metadata": {
  "kernelspec": {
   "display_name": "Python 3 (ipykernel)",
   "language": "python",
   "name": "python3"
  },
  "language_info": {
   "codemirror_mode": {
    "name": "ipython",
    "version": 3
   },
   "file_extension": ".py",
   "mimetype": "text/x-python",
   "name": "python",
   "nbconvert_exporter": "python",
   "pygments_lexer": "ipython3",
   "version": "3.12.4"
  }
 },
 "nbformat": 4,
 "nbformat_minor": 5
}
